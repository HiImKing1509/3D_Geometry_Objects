{
 "cells": [
  {
   "cell_type": "markdown",
   "metadata": {},
   "source": [
    "# **Import library**"
   ]
  },
  {
   "cell_type": "code",
   "execution_count": 1,
   "metadata": {},
   "outputs": [
    {
     "name": "stderr",
     "output_type": "stream",
     "text": [
      "c:\\Users\\Asus\\anaconda3\\envs\\epylib\\lib\\site-packages\\scipy\\__init__.py:146: UserWarning: A NumPy version >=1.16.5 and <1.23.0 is required for this version of SciPy (detected version 1.23.3\n",
      "  warnings.warn(f\"A NumPy version >={np_minversion} and <{np_maxversion}\"\n"
     ]
    }
   ],
   "source": [
    "import igl\n",
    "import meshplot as mp\n",
    "import numpy as np"
   ]
  },
  {
   "cell_type": "markdown",
   "metadata": {},
   "source": [
    "Plotting the mesh 3D model"
   ]
  },
  {
   "cell_type": "code",
   "execution_count": 2,
   "metadata": {},
   "outputs": [],
   "source": [
    "# # vertices (x,y,z)\n",
    "# v=np.array([[0,0,0],[1,0,0],[1,1,1],[2,1,0]])\n",
    "\n",
    "# # faces <index of vertices>\n",
    "# f=np.array([[0,1,2],[1,3,2]])\n",
    "# mp.plot(v,f)"
   ]
  },
  {
   "cell_type": "markdown",
   "metadata": {},
   "source": [
    "Read the obj file, plotting the predefined 3D model"
   ]
  },
  {
   "cell_type": "code",
   "execution_count": null,
   "metadata": {},
   "outputs": [],
   "source": [
    "vertices, faces = igl.read_triangle_mesh('../data/Male.OBJ')\n",
    "# v, f = vertices, faces\n",
    "# print(f\"Vertices shape: {v.shape}\\n{v}\")\n",
    "# print(f\"Faces shape: {f.shape}\\n{f}\")\n",
    "mp.plot(vertices, faces)"
   ]
  },
  {
   "cell_type": "markdown",
   "metadata": {},
   "source": [
    "# Class Tranformation"
   ]
  },
  {
   "cell_type": "code",
   "execution_count": 11,
   "metadata": {},
   "outputs": [],
   "source": [
    "class Tranformation:\n",
    "        \n",
    "    def __init__(self, object):\n",
    "        self.object = object\n",
    "    \n",
    "    def transformation_3d(self, matrix):\n",
    "        transformation = []\n",
    "        for vec in self.object:\n",
    "            data_point = [cmp for cmp in vec]\n",
    "            data_point.append(1)\n",
    "            data_point=np.array(data_point)\n",
    "            transformation.append(np.matmul(matrix, data_point.T)[:-1])\n",
    "        return np.array(transformation)"
   ]
  },
  {
   "cell_type": "code",
   "execution_count": 12,
   "metadata": {},
   "outputs": [],
   "source": [
    "v, f = vertices, faces"
   ]
  },
  {
   "cell_type": "code",
   "execution_count": 13,
   "metadata": {},
   "outputs": [],
   "source": [
    "trans = Tranformation(v)"
   ]
  },
  {
   "cell_type": "code",
   "execution_count": 14,
   "metadata": {},
   "outputs": [],
   "source": [
    "def translation(tx, ty, tz):\n",
    "    return np.array([\n",
    "        [1, 0, 0, tx], \n",
    "        [0, 1, 0, ty], \n",
    "        [0, 0, 1, tz], \n",
    "        [0, 0, 0, 1]])\n",
    "    \n",
    "def rotation(str, angle):\n",
    "    if str == 'X':\n",
    "        return np.array([\n",
    "            [1, 0, 0, 0], \n",
    "            [0, np.cos(angle), -np.sin(angle), 0],\n",
    "            [0, np.sin(angle), np.cos(angle), 0], \n",
    "            [0, 0, 0, 1]])\n",
    "    elif str == 'Y':\n",
    "        return np.array([\n",
    "            [np.cos(angle), 0, np.sin(angle), 0], \n",
    "            [0, 1, 0, 0], \n",
    "            [-np.sin(angle), 0, np.cos(angle), 0], \n",
    "            [0, 0, 0, 1]])\n",
    "    else:\n",
    "        return np.array([\n",
    "            [np.cos(angle), -np.sin(angle), 0, 0], \n",
    "            [np.sin(angle), np.cos(angle), 0, 0], \n",
    "            [0, 0, 1, 0], \n",
    "            [0, 0, 0, 1]])\n",
    "\n",
    "def scaling(sx, sy, sz):\n",
    "    return np.array([\n",
    "        [sx, 0, 0, 0], \n",
    "        [0, sy, 0, 0], \n",
    "        [0, 0, sz, 0], \n",
    "        [0, 0, 0, 1]])\n",
    "    \n",
    "def reflection(str):\n",
    "    return np.array([\n",
    "        [-1 if str == 'YZ' else 1, 0, 0, 0], \n",
    "        [0, -1 if str == 'XZ' else 1, 0, 0], \n",
    "        [0, 0, -1 if str == 'XY' else 1, 0], \n",
    "        [0, 0, 0, 1]])\n",
    "\n",
    "def shear(str, param1, param2):\n",
    "    if str == 'X':\n",
    "        return np.array([\n",
    "            [1, 0, 0, 0], \n",
    "            [param1, 1, 0, 0], \n",
    "            [param2, 0, 1, 0], \n",
    "            [0, 0, 0, 1]])\n",
    "    elif str == 'Y':\n",
    "        return np.array([\n",
    "            [1, param1, 0, 0], \n",
    "            [0, 1, 0, 0], \n",
    "            [0, param2, 1, 0], \n",
    "            [0, 0, 0, 1]])\n",
    "    else:\n",
    "        return np.array([\n",
    "            [1, 0, param1, 0], \n",
    "            [0, 1, param2, 0], \n",
    "            [0, 0, 1, 0], \n",
    "            [0, 0, 0, 1]])"
   ]
  },
  {
   "cell_type": "markdown",
   "metadata": {},
   "source": [
    "### HDSD:\n",
    "- Translation: `translation(param1, param2, param3)`\n",
    "    * `param1: tx`\n",
    "    * `param2: ty`\n",
    "    * `param3: tz`\n",
    "- Rotation: `rotation(str, angle)`\n",
    "    * `str: ['X', 'Y', 'Z']`\n",
    "    * `angle: 'number'`\n",
    "- Scaling: `scaling(param1, param2, param3)`\n",
    "    * `param1: sx`\n",
    "    * `param2: sy`\n",
    "    * `param3: sz`\n",
    "- Reflection: `reflection(str)`\n",
    "    * `str: ['XY', 'YZ', 'XZ']`\n",
    "- Shear: `shear(str, param1, param2)`\n",
    "    * `str: ['X', 'Y', 'Z']`\n",
    "    * `param1: sx`\n",
    "    * `param2: sy`"
   ]
  },
  {
   "cell_type": "code",
   "execution_count": null,
   "metadata": {},
   "outputs": [],
   "source": [
    "# Original\n",
    "print(\"Original image\")\n",
    "mp.plot(v, f)"
   ]
  },
  {
   "cell_type": "code",
   "execution_count": null,
   "metadata": {},
   "outputs": [],
   "source": [
    "# Translation\n",
    "print(\"Translation [3, 4, 5] image\")\n",
    "mp_trans = trans.transformation_3d(translation(3, 4, 5))\n",
    "mp.plot(mp_trans, f)"
   ]
  },
  {
   "cell_type": "code",
   "execution_count": null,
   "metadata": {},
   "outputs": [],
   "source": [
    "# Rotation\n",
    "print(\"Rotation [X, 45] image\")\n",
    "mp_trans = trans.transformation_3d(rotation('X', 45))\n",
    "mp.plot(mp_trans, f)\n",
    "# print(\"Rotation [Y, 75] image\")\n",
    "# mp_trans = trans.transformation_3d(rotation('Y', 75))\n",
    "# mp.plot(mp_trans, f)\n",
    "# print(\"Rotation [Z, 80] image\")\n",
    "# mp_trans = trans.transformation_3d(rotation('Z', 80))\n",
    "# mp.plot(mp_trans, f)"
   ]
  },
  {
   "cell_type": "code",
   "execution_count": null,
   "metadata": {},
   "outputs": [],
   "source": [
    "# Scaling\n",
    "print(\"Scaling [2, 2, 3] image\")\n",
    "mp_trans = trans.transformation_3d(scaling(2, 2, 3))\n",
    "mp.plot(mp_trans, f)"
   ]
  },
  {
   "cell_type": "code",
   "execution_count": null,
   "metadata": {},
   "outputs": [],
   "source": [
    "# Reflection\n",
    "print(\"Reflection [XY] image\")\n",
    "mp_trans = trans.transformation_3d(reflection('XY'))\n",
    "mp.plot(mp_trans, f)\n",
    "# print(\"Reflection [YZ] image\")\n",
    "# mp_trans = trans.transformation_3d(reflection('YZ'))\n",
    "# mp.plot(mp_trans, f)\n",
    "# print(\"Reflection [XZ] image\")\n",
    "# mp_trans = trans.transformation_3d(reflection('XZ'))\n",
    "# mp.plot(mp_trans, f)"
   ]
  },
  {
   "cell_type": "code",
   "execution_count": null,
   "metadata": {},
   "outputs": [],
   "source": [
    "# Shear\n",
    "print(\"Shear [X, 2, 3] image\")\n",
    "mp_trans = trans.transformation_3d(shear('X', 2, 3))\n",
    "mp.plot(mp_trans, f)"
   ]
  }
 ],
 "metadata": {
  "kernelspec": {
   "display_name": "Python 3.9.13 ('epylib')",
   "language": "python",
   "name": "python3"
  },
  "language_info": {
   "codemirror_mode": {
    "name": "ipython",
    "version": 3
   },
   "file_extension": ".py",
   "mimetype": "text/x-python",
   "name": "python",
   "nbconvert_exporter": "python",
   "pygments_lexer": "ipython3",
   "version": "3.9.13"
  },
  "orig_nbformat": 4,
  "vscode": {
   "interpreter": {
    "hash": "8bfb5daebde50ef87b96b2fca9b278ef37649c7e936f196fa4998753ae869521"
   }
  }
 },
 "nbformat": 4,
 "nbformat_minor": 2
}
