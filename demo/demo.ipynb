{
 "cells": [
  {
   "cell_type": "markdown",
   "metadata": {},
   "source": [
    "# **Import library**"
   ]
  },
  {
   "cell_type": "code",
   "execution_count": null,
   "metadata": {},
   "outputs": [],
   "source": [
    "import igl\n",
    "import meshplot as mp\n",
    "import numpy as np"
   ]
  },
  {
   "cell_type": "markdown",
   "metadata": {},
   "source": [
    "Read the obj file, plotting the predefined 3D model"
   ]
  },
  {
   "cell_type": "code",
   "execution_count": null,
   "metadata": {},
   "outputs": [],
   "source": [
    "vertices, faces = igl.read_triangle_mesh('../data/Ship.obj')\n",
    "mp.plot(vertices, faces)"
   ]
  },
  {
   "cell_type": "markdown",
   "metadata": {},
   "source": [
    "# **Convex hull**"
   ]
  },
  {
   "cell_type": "code",
   "execution_count": null,
   "metadata": {},
   "outputs": [],
   "source": [
    "v, f = vertices, faces"
   ]
  },
  {
   "cell_type": "code",
   "execution_count": null,
   "metadata": {},
   "outputs": [],
   "source": [
    "f=[]\n",
    "fi = open(\"../data/bunny_out.txt\", \"r\")\n",
    "line=fi.readline()\n",
    "line=line.split()\n",
    "for i in range(0,len(line)-2,3):\n",
    "    f.append([int(line[i]),int(line[i+1]),int(line[i+2])])\n",
    "f=np.array(f)\n",
    "mp.plot(v,f)"
   ]
  },
  {
   "cell_type": "code",
   "execution_count": null,
   "metadata": {},
   "outputs": [],
   "source": [
    "s=set()\n",
    "for vec in f:\n",
    "    tmp=vec\n",
    "    tmp.sort()\n",
    "    s.add((tmp[0], tmp[1]))\n",
    "    s.add((tmp[1], tmp[2]))\n",
    "    s.add((tmp[0], tmp[2]))\n",
    "\n",
    "print(f\"The number of vertices: {len(v)} \\\n",
    "        \\nThe number of faces: {len(f)} \\\n",
    "        \\nThe number of edges: {len(s)}\")"
   ]
  },
  {
   "cell_type": "code",
   "execution_count": null,
   "metadata": {},
   "outputs": [],
   "source": [
    "v, f = vertices, faces"
   ]
  },
  {
   "cell_type": "markdown",
   "metadata": {},
   "source": [
    "# Class Tranformation"
   ]
  },
  {
   "cell_type": "code",
   "execution_count": null,
   "metadata": {},
   "outputs": [],
   "source": [
    "class Tranformation:\n",
    "        \n",
    "    def __init__(self, object):\n",
    "        self.object = object\n",
    "    \n",
    "    def transformation_3d(self, matrix):\n",
    "        transformation = []\n",
    "        for vec in self.object:\n",
    "            data_point = [cmp for cmp in vec]\n",
    "            data_point.append(1)\n",
    "            data_point=np.array(data_point)\n",
    "            transformation.append(np.matmul(matrix, data_point.T)[:-1])\n",
    "        return np.array(transformation)"
   ]
  },
  {
   "cell_type": "code",
   "execution_count": null,
   "metadata": {},
   "outputs": [],
   "source": [
    "trans = Tranformation(v)"
   ]
  },
  {
   "cell_type": "code",
   "execution_count": null,
   "metadata": {},
   "outputs": [],
   "source": [
    "def translation(tx, ty, tz):\n",
    "    return np.array([\n",
    "        [1, 0, 0, tx], \n",
    "        [0, 1, 0, ty], \n",
    "        [0, 0, 1, tz], \n",
    "        [0, 0, 0, 1]])\n",
    "    \n",
    "def rotation(str, angle):\n",
    "    if str == 'X':\n",
    "        return np.array([\n",
    "            [1, 0, 0, 0], \n",
    "            [0, np.cos(angle), -np.sin(angle), 0],\n",
    "            [0, np.sin(angle), np.cos(angle), 0], \n",
    "            [0, 0, 0, 1]])\n",
    "    elif str == 'Y':\n",
    "        return np.array([\n",
    "            [np.cos(angle), 0, np.sin(angle), 0], \n",
    "            [0, 1, 0, 0], \n",
    "            [-np.sin(angle), 0, np.cos(angle), 0], \n",
    "            [0, 0, 0, 1]])\n",
    "    else:\n",
    "        return np.array([\n",
    "            [np.cos(angle), -np.sin(angle), 0, 0], \n",
    "            [np.sin(angle), np.cos(angle), 0, 0], \n",
    "            [0, 0, 1, 0], \n",
    "            [0, 0, 0, 1]])\n",
    "\n",
    "def scaling(sx, sy, sz):\n",
    "    return np.array([\n",
    "        [sx, 0, 0, 0], \n",
    "        [0, sy, 0, 0], \n",
    "        [0, 0, sz, 0], \n",
    "        [0, 0, 0, 1]])\n",
    "    \n",
    "def reflection(str):\n",
    "    return np.array([\n",
    "        [-1 if str == 'YZ' else 1, 0, 0, 0], \n",
    "        [0, -1 if str == 'XZ' else 1, 0, 0], \n",
    "        [0, 0, -1 if str == 'XY' else 1, 0], \n",
    "        [0, 0, 0, 1]])\n",
    "\n",
    "def shear(str, param1, param2):\n",
    "    if str == 'X':\n",
    "        return np.array([\n",
    "            [1, 0, 0, 0], \n",
    "            [param1, 1, 0, 0], \n",
    "            [param2, 0, 1, 0], \n",
    "            [0, 0, 0, 1]])\n",
    "    elif str == 'Y':\n",
    "        return np.array([\n",
    "            [1, param1, 0, 0], \n",
    "            [0, 1, 0, 0], \n",
    "            [0, param2, 1, 0], \n",
    "            [0, 0, 0, 1]])\n",
    "    else:\n",
    "        return np.array([\n",
    "            [1, 0, param1, 0], \n",
    "            [0, 1, param2, 0], \n",
    "            [0, 0, 1, 0], \n",
    "            [0, 0, 0, 1]])"
   ]
  },
  {
   "cell_type": "markdown",
   "metadata": {},
   "source": [
    "### HDSD:\n",
    "- Translation: `translation(param1, param2, param3)`\n",
    "    * `param1: tx`\n",
    "    * `param2: ty`\n",
    "    * `param3: tz`\n",
    "- Rotation: `rotation(str, angle)`\n",
    "    * `str: ['X', 'Y', 'Z']`\n",
    "    * `angle: 'number'`\n",
    "- Scaling: `scaling(param1, param2, param3)`\n",
    "    * `param1: sx`\n",
    "    * `param2: sy`\n",
    "    * `param3: sz`\n",
    "- Reflection: `reflection(str)`\n",
    "    * `str: ['XY', 'YZ', 'XZ']`\n",
    "- Shear: `shear(str, param1, param2)`\n",
    "    * `str: ['X', 'Y', 'Z']`\n",
    "    * `param1: sx`\n",
    "    * `param2: sy`"
   ]
  },
  {
   "cell_type": "code",
   "execution_count": null,
   "metadata": {},
   "outputs": [],
   "source": [
    "# Original\n",
    "print(\"Original image\")\n",
    "mp.plot(v, f)"
   ]
  },
  {
   "cell_type": "code",
   "execution_count": null,
   "metadata": {},
   "outputs": [],
   "source": [
    "# Translation\n",
    "print(\"Translation [3, 4, 5] image\")\n",
    "mp_trans = trans.transformation_3d(translation(3, 4, 5))\n",
    "mp.plot(mp_trans, f)"
   ]
  },
  {
   "cell_type": "code",
   "execution_count": null,
   "metadata": {},
   "outputs": [],
   "source": [
    "# Rotation\n",
    "print(\"Rotation [X, 45] image\")\n",
    "mp_trans = trans.transformation_3d(rotation('X', 45))\n",
    "mp.plot(mp_trans, f)\n",
    "# print(\"Rotation [Y, 75] image\")\n",
    "# mp_trans = trans.transformation_3d(rotation('Y', 75))\n",
    "# mp.plot(mp_trans, f)\n",
    "# print(\"Rotation [Z, 80] image\")\n",
    "# mp_trans = trans.transformation_3d(rotation('Z', 80))\n",
    "# mp.plot(mp_trans, f)"
   ]
  },
  {
   "cell_type": "code",
   "execution_count": null,
   "metadata": {},
   "outputs": [],
   "source": [
    "# Scaling\n",
    "print(\"Scaling [2, 2, 3] image\")\n",
    "mp_trans = trans.transformation_3d(scaling(2, 2, 3))\n",
    "mp.plot(mp_trans, f)"
   ]
  },
  {
   "cell_type": "code",
   "execution_count": null,
   "metadata": {},
   "outputs": [],
   "source": [
    "# Reflection\n",
    "print(\"Reflection [XY] image\")\n",
    "mp_trans = trans.transformation_3d(reflection('XY'))\n",
    "mp.plot(mp_trans, f)\n",
    "# print(\"Reflection [YZ] image\")\n",
    "# mp_trans = trans.transformation_3d(reflection('YZ'))\n",
    "# mp.plot(mp_trans, f)\n",
    "# print(\"Reflection [XZ] image\")\n",
    "# mp_trans = trans.transformation_3d(reflection('XZ'))\n",
    "# mp.plot(mp_trans, f)"
   ]
  },
  {
   "cell_type": "code",
   "execution_count": null,
   "metadata": {},
   "outputs": [],
   "source": [
    "# Shear\n",
    "print(\"Shear [X, 2, 3] image\")\n",
    "mp_trans = trans.transformation_3d(shear('X', 2, 3))\n",
    "mp.plot(mp_trans, f)"
   ]
  }
 ],
 "metadata": {
  "kernelspec": {
   "display_name": "Python 3.9.13 ('epylib')",
   "language": "python",
   "name": "python3"
  },
  "language_info": {
   "codemirror_mode": {
    "name": "ipython",
    "version": 3
   },
   "file_extension": ".py",
   "mimetype": "text/x-python",
   "name": "python",
   "nbconvert_exporter": "python",
   "pygments_lexer": "ipython3",
   "version": "3.9.13"
  },
  "orig_nbformat": 4,
  "vscode": {
   "interpreter": {
    "hash": "8bfb5daebde50ef87b96b2fca9b278ef37649c7e936f196fa4998753ae869521"
   }
  }
 },
 "nbformat": 4,
 "nbformat_minor": 2
}
