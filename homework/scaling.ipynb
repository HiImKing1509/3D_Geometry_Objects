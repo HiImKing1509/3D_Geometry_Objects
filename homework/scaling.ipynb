{
 "cells": [
  {
   "cell_type": "markdown",
   "metadata": {},
   "source": [
    "## Import library"
   ]
  },
  {
   "cell_type": "code",
   "execution_count": 1,
   "metadata": {},
   "outputs": [],
   "source": [
    "import numpy as np\n",
    "import matplotlib.pyplot as plt\n",
    "from mpl_toolkits.mplot3d import Axes3D, art3d"
   ]
  },
  {
   "cell_type": "markdown",
   "metadata": {},
   "source": [
    "## Plot transformation"
   ]
  },
  {
   "cell_type": "code",
   "execution_count": 2,
   "metadata": {},
   "outputs": [],
   "source": [
    "def transformation_plot(v, f):\n",
    "    C = np.array([1,2,3,4,5,6,7,8,2,3,4,5])\n",
    "\n",
    "    fig = plt.figure()\n",
    "    ax = fig.add_subplot(projection=\"3d\")\n",
    "\n",
    "    norm = plt.Normalize(C.min(), C.max())\n",
    "    colors = plt.cm.viridis(norm(C))\n",
    "\n",
    "    pc = art3d.Poly3DCollection(v[f], facecolors=colors, edgecolor=\"black\")\n",
    "    ax.add_collection(pc)\n",
    "\n",
    "    plt.show()"
   ]
  },
  {
   "cell_type": "markdown",
   "metadata": {},
   "source": [
    "## 3D transformation"
   ]
  },
  {
   "cell_type": "code",
   "execution_count": 3,
   "metadata": {},
   "outputs": [],
   "source": [
    "def transformation_3d(obj, matrix):\n",
    "    transformation = []\n",
    "    for vec in obj:\n",
    "        data_point = [cmp for cmp in vec]\n",
    "        data_point.append(1)\n",
    "        data_point=np.array(data_point)\n",
    "        transformation.append(np.matmul(matrix, data_point.T)[:-1])\n",
    "    return np.array(transformation)"
   ]
  },
  {
   "cell_type": "markdown",
   "metadata": {},
   "source": [
    "## Data"
   ]
  },
  {
   "cell_type": "code",
   "execution_count": null,
   "metadata": {},
   "outputs": [],
   "source": [
    "# Data points\n",
    "vertex = np.array([[0,0,0], [1,0,0], [1,1,0], [0,1,0], \n",
    "              [0,0,1], [1,0,1], [1,1,1], [0,1,1]])\n",
    "\n",
    "# Data faces\n",
    "faces = np.array([[0,2,1], [0,3,2], [1,2,6], [1,6,5],\n",
    "              [0,5,4], [0,1,5], [4,5,6], [6,7,4],\n",
    "              [3,7,6], [6,2,3], [0,4,7], [7,3,0]])\n",
    "\n",
    "transformation_plot(vertex, faces)"
   ]
  },
  {
   "cell_type": "markdown",
   "metadata": {},
   "source": [
    "# Starting code"
   ]
  },
  {
   "cell_type": "code",
   "execution_count": null,
   "metadata": {},
   "outputs": [],
   "source": [
    "# START\n",
    "matrix = None\n",
    "scaling_vertex = transformation_3d(None, None)\n",
    "\"\"\"\n",
    "    papam1: Data points\n",
    "    param2: Matrix scaling\n",
    "\"\"\"\n",
    "transformation_plot(None, None)\n",
    "\"\"\"\n",
    "    papam1: Data points\n",
    "    param2: Data faces\n",
    "\"\"\"\n",
    "# END"
   ]
  }
 ],
 "metadata": {
  "kernelspec": {
   "display_name": "Python 3.9.13 ('epylib')",
   "language": "python",
   "name": "python3"
  },
  "language_info": {
   "codemirror_mode": {
    "name": "ipython",
    "version": 3
   },
   "file_extension": ".py",
   "mimetype": "text/x-python",
   "name": "python",
   "nbconvert_exporter": "python",
   "pygments_lexer": "ipython3",
   "version": "3.9.13"
  },
  "orig_nbformat": 4,
  "vscode": {
   "interpreter": {
    "hash": "8bfb5daebde50ef87b96b2fca9b278ef37649c7e936f196fa4998753ae869521"
   }
  }
 },
 "nbformat": 4,
 "nbformat_minor": 2
}
